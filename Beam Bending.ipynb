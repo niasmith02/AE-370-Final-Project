{
  "cells": [],
  "metadata": {},
  "nbformat": 4,
  "nbformat_minor": 5
}

import numpy as np
